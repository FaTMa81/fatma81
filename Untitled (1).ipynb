{
 "cells": [
  {
   "cell_type": "code",
   "execution_count": 2,
   "id": "3cfc6694",
   "metadata": {},
   "outputs": [
    {
     "name": "stdout",
     "output_type": "stream",
     "text": [
      "yaşınız giriniz:18\n"
     ]
    }
   ],
   "source": [
    "# 18 yaş kontrolü\n",
    "yas= int(input(\"yaşınız giriniz:\"))\n",
    "\n",
    "if(yas<18):\n",
    "    # if blogu- Girinti ile sağlanıyor.\n",
    "    print(\"Bu mekana giremezsiniz.\")"
   ]
  },
  {
   "cell_type": "markdown",
   "id": "8c12710d",
   "metadata": {},
   "source": [
    "# İF ELİF ELS KOŞULU"
   ]
  },
  {
   "cell_type": "code",
   "execution_count": 7,
   "id": "4e173ed2",
   "metadata": {},
   "outputs": [
    {
     "name": "stdout",
     "output_type": "stream",
     "text": [
      "islem geciniz:1\n",
      "1.islem seçildi.\n"
     ]
    }
   ],
   "source": [
    "islem = int(input(\"islem geciniz:\"))# 3 tane isleminiz olsun\n",
    "if islem == 1:\n",
    "    print(\"1.islem seçildi.\")\n",
    "elif islem == 2:\n",
    "    print(\"2.islem seçildi.\")\n",
    "elif islem == 3:\n",
    "    print(\"3.islem seçildi.\")\n",
    "else:\n",
    "    print(\"gecersiz islem!\")"
   ]
  },
  {
   "cell_type": "code",
   "execution_count": null,
   "id": "63eea825",
   "metadata": {},
   "outputs": [],
   "source": []
  }
 ],
 "metadata": {
  "kernelspec": {
   "display_name": "Python 3 (ipykernel)",
   "language": "python",
   "name": "python3"
  },
  "language_info": {
   "codemirror_mode": {
    "name": "ipython",
    "version": 3
   },
   "file_extension": ".py",
   "mimetype": "text/x-python",
   "name": "python",
   "nbconvert_exporter": "python",
   "pygments_lexer": "ipython3",
   "version": "3.9.13"
  }
 },
 "nbformat": 4,
 "nbformat_minor": 5
}
