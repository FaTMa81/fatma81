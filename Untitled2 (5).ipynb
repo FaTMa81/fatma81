{
 "cells": [
  {
   "cell_type": "markdown",
   "id": "680c23c6",
   "metadata": {},
   "source": [
    "## DOSYA AÇMA VE YAZMAK İŞLEMLERİ"
   ]
  },
  {
   "cell_type": "code",
   "execution_count": 11,
   "id": "0666d76e",
   "metadata": {},
   "outputs": [
    {
     "ename": "FileNotFoundError",
     "evalue": "[Errno 2] No such file or directory: 'C:İntel/fatma bas.txt'",
     "output_type": "error",
     "traceback": [
      "\u001b[1;31m---------------------------------------------------------------------------\u001b[0m",
      "\u001b[1;31mFileNotFoundError\u001b[0m                         Traceback (most recent call last)",
      "\u001b[1;32m~\\AppData\\Local\\Temp\\ipykernel_6296\\1829006221.py\u001b[0m in \u001b[0;36m<module>\u001b[1;34m\u001b[0m\n\u001b[1;32m----> 1\u001b[1;33m \u001b[0mfile\u001b[0m\u001b[1;33m=\u001b[0m\u001b[0mopen\u001b[0m\u001b[1;33m(\u001b[0m\u001b[1;34m\"C:İntel/fatma bas.txt\"\u001b[0m\u001b[1;33m,\u001b[0m\u001b[1;34m\"w\"\u001b[0m\u001b[1;33m)\u001b[0m\u001b[1;33m\u001b[0m\u001b[1;33m\u001b[0m\u001b[0m\n\u001b[0m",
      "\u001b[1;31mFileNotFoundError\u001b[0m: [Errno 2] No such file or directory: 'C:İntel/fatma bas.txt'"
     ]
    }
   ],
   "source": [
    "file=open(\"C:İntel/fatmabas.txt\",\"w\")"
   ]
  },
  {
   "cell_type": "code",
   "execution_count": 13,
   "id": "27a90f30",
   "metadata": {},
   "outputs": [],
   "source": [
    "file=open(\"D:/bilgiler.txt\",\"w\",encoding=\"utf-8\")#Turkce karakter"
   ]
  },
  {
   "cell_type": "code",
   "execution_count": 14,
   "id": "f57f5586",
   "metadata": {},
   "outputs": [
    {
     "data": {
      "text/plain": [
       "18"
      ]
     },
     "execution_count": 14,
     "metadata": {},
     "output_type": "execute_result"
    }
   ],
   "source": [
    "file.write(\"Merhaba Pınarhisar\")#write fonksiyonu ile yazı yazılır"
   ]
  },
  {
   "cell_type": "markdown",
   "id": "4173f90e",
   "metadata": {},
   "source": [
    "## DOSYA OKUTMAK"
   ]
  },
  {
   "cell_type": "code",
   "execution_count": 15,
   "id": "7bc15f3d",
   "metadata": {},
   "outputs": [],
   "source": [
    "file=open(\"D:/bilgiler.txt\",\"r\",encoding=\"utf-8\")"
   ]
  },
  {
   "cell_type": "code",
   "execution_count": 16,
   "id": "e9c7de4e",
   "metadata": {},
   "outputs": [],
   "source": [
    "file.close()"
   ]
  },
  {
   "cell_type": "code",
   "execution_count": 18,
   "id": "d5797609",
   "metadata": {},
   "outputs": [
    {
     "name": "stdout",
     "output_type": "stream",
     "text": [
      "Merhaba Pınarhisar\n"
     ]
    },
    {
     "ename": "AttributeError",
     "evalue": "'_io.TextIOWrapper' object has no attribute 'cose'",
     "output_type": "error",
     "traceback": [
      "\u001b[1;31m---------------------------------------------------------------------------\u001b[0m",
      "\u001b[1;31mAttributeError\u001b[0m                            Traceback (most recent call last)",
      "\u001b[1;32m~\\AppData\\Local\\Temp\\ipykernel_6296\\624930873.py\u001b[0m in \u001b[0;36m<module>\u001b[1;34m\u001b[0m\n\u001b[0;32m      3\u001b[0m \u001b[1;32mfor\u001b[0m \u001b[0mi\u001b[0m \u001b[1;32min\u001b[0m \u001b[0mfile\u001b[0m\u001b[1;33m:\u001b[0m \u001b[1;31m# Tıpkı listeler gibi dosyayı bulur.\u001b[0m\u001b[1;33m\u001b[0m\u001b[1;33m\u001b[0m\u001b[0m\n\u001b[0;32m      4\u001b[0m     \u001b[0mprint\u001b[0m\u001b[1;33m(\u001b[0m\u001b[0mi\u001b[0m\u001b[1;33m)\u001b[0m\u001b[1;33m\u001b[0m\u001b[1;33m\u001b[0m\u001b[0m\n\u001b[1;32m----> 5\u001b[1;33m     \u001b[0mfile\u001b[0m\u001b[1;33m.\u001b[0m\u001b[0mcose\u001b[0m\u001b[1;33m(\u001b[0m\u001b[1;33m)\u001b[0m\u001b[1;33m\u001b[0m\u001b[1;33m\u001b[0m\u001b[0m\n\u001b[0m",
      "\u001b[1;31mAttributeError\u001b[0m: '_io.TextIOWrapper' object has no attribute 'cose'"
     ]
    }
   ],
   "source": [
    "file=open(\"bilgiler.txt\",\"r\",encoding=\"utf-8\")\n",
    "\n",
    "for i in file: # Tıpkı listeler gibi dosyayı bulur.\n",
    "    print(i)\n",
    "    file.cose()"
   ]
  },
  {
   "cell_type": "code",
   "execution_count": 19,
   "id": "478c020d",
   "metadata": {},
   "outputs": [
    {
     "ename": "AttributeError",
     "evalue": "'_io.TextIOWrapper' object has no attribute 'readlins'",
     "output_type": "error",
     "traceback": [
      "\u001b[1;31m---------------------------------------------------------------------------\u001b[0m",
      "\u001b[1;31mAttributeError\u001b[0m                            Traceback (most recent call last)",
      "\u001b[1;32m~\\AppData\\Local\\Temp\\ipykernel_6296\\1808336277.py\u001b[0m in \u001b[0;36m<module>\u001b[1;34m\u001b[0m\n\u001b[1;32m----> 1\u001b[1;33m \u001b[0mfile\u001b[0m\u001b[1;33m.\u001b[0m\u001b[0mreadlins\u001b[0m\u001b[1;33m(\u001b[0m\u001b[1;33m)\u001b[0m\u001b[1;33m\u001b[0m\u001b[1;33m\u001b[0m\u001b[0m\n\u001b[0m",
      "\u001b[1;31mAttributeError\u001b[0m: '_io.TextIOWrapper' object has no attribute 'readlins'"
     ]
    }
   ],
   "source": [
    "file.readlins()"
   ]
  },
  {
   "cell_type": "code",
   "execution_count": 20,
   "id": "26f3e0b6",
   "metadata": {},
   "outputs": [],
   "source": [
    "file=open(\"D:/bilgiler.txt\",\"w\",encoding=\"utf-8\")#Turkce karakter"
   ]
  },
  {
   "cell_type": "code",
   "execution_count": 22,
   "id": "d633d33d",
   "metadata": {},
   "outputs": [],
   "source": [
    "file=open(\"D:/bilgiler.txt\",\"r\",encoding=\"utf-8\")#Turkce karakter\n",
    "file.close()"
   ]
  },
  {
   "cell_type": "code",
   "execution_count": 26,
   "id": "f3a5c9d2",
   "metadata": {},
   "outputs": [
    {
     "name": "stdout",
     "output_type": "stream",
     "text": [
      "akagkna. knakl .k kh .ghj.hf.hf kdsg fd\n",
      "\n",
      "dkflghs lhdfgdksh khfdkshg ldhfg dh\n",
      "\n",
      "gf gfkjg df sfkggkşfh şsfd\n",
      "\n",
      "kgns kşfgdjskdgfdkgjkşdfgkfdn f gkdfg \n"
     ]
    }
   ],
   "source": [
    "veri=open(\"D:/bilgiler.txt\",\"r\",encoding=\"utf-8\")#Turkce karakter\n",
    "\n",
    "for i in veri:\n",
    "    print(i)"
   ]
  },
  {
   "cell_type": "code",
   "execution_count": null,
   "id": "c056a3b9",
   "metadata": {},
   "outputs": [],
   "source": []
  }
 ],
 "metadata": {
  "kernelspec": {
   "display_name": "Python 3 (ipykernel)",
   "language": "python",
   "name": "python3"
  },
  "language_info": {
   "codemirror_mode": {
    "name": "ipython",
    "version": 3
   },
   "file_extension": ".py",
   "mimetype": "text/x-python",
   "name": "python",
   "nbconvert_exporter": "python",
   "pygments_lexer": "ipython3",
   "version": "3.9.13"
  }
 },
 "nbformat": 4,
 "nbformat_minor": 5
}
